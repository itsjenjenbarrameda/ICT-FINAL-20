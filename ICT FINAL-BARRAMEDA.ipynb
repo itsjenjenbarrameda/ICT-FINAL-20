{
  "cells": [
    {
      "cell_type": "code",
      "execution_count": 6,
      "id": "f50d808c-dc3b-40f7-9c27-1adbd90df22f",
      "metadata": {
        "id": "f50d808c-dc3b-40f7-9c27-1adbd90df22f"
      },
      "outputs": [],
      "source": [
        "import pandas as pd"
      ]
    },
    {
      "cell_type": "code",
      "source": [
        "url = \"https://raw.githubusercontent.com/itsjenjenbarrameda/ICT-FINAL-20/refs/heads/main/suicide%20rate.csv\""
      ],
      "metadata": {
        "id": "SpvtPTml_cfz"
      },
      "id": "SpvtPTml_cfz",
      "execution_count": null,
      "outputs": []
    },
    {
      "cell_type": "code",
      "execution_count": 7,
      "id": "7189b482-ad65-4a93-aa34-4af602adf0ab",
      "metadata": {
        "id": "7189b482-ad65-4a93-aa34-4af602adf0ab",
        "outputId": "3a9486be-e36e-4a7c-c60a-ef0864a65fb3",
        "colab": {
          "base_uri": "https://localhost:8080/",
          "height": 287
        }
      },
      "outputs": [
        {
          "output_type": "error",
          "ename": "FileNotFoundError",
          "evalue": "[Errno 2] No such file or directory: 'suicide rate.csv'",
          "traceback": [
            "\u001b[0;31m---------------------------------------------------------------------------\u001b[0m",
            "\u001b[0;31mFileNotFoundError\u001b[0m                         Traceback (most recent call last)",
            "\u001b[0;32m<ipython-input-7-917371ab5cc6>\u001b[0m in \u001b[0;36m<cell line: 0>\u001b[0;34m()\u001b[0m\n\u001b[0;32m----> 1\u001b[0;31m \u001b[0mdf\u001b[0m \u001b[0;34m=\u001b[0m \u001b[0mpd\u001b[0m\u001b[0;34m.\u001b[0m\u001b[0mread_csv\u001b[0m\u001b[0;34m(\u001b[0m\u001b[0;34m\"suicide rate.csv\"\u001b[0m\u001b[0;34m)\u001b[0m\u001b[0;34m\u001b[0m\u001b[0;34m\u001b[0m\u001b[0m\n\u001b[0m",
            "\u001b[0;32m/usr/local/lib/python3.11/dist-packages/pandas/io/parsers/readers.py\u001b[0m in \u001b[0;36mread_csv\u001b[0;34m(filepath_or_buffer, sep, delimiter, header, names, index_col, usecols, dtype, engine, converters, true_values, false_values, skipinitialspace, skiprows, skipfooter, nrows, na_values, keep_default_na, na_filter, verbose, skip_blank_lines, parse_dates, infer_datetime_format, keep_date_col, date_parser, date_format, dayfirst, cache_dates, iterator, chunksize, compression, thousands, decimal, lineterminator, quotechar, quoting, doublequote, escapechar, comment, encoding, encoding_errors, dialect, on_bad_lines, delim_whitespace, low_memory, memory_map, float_precision, storage_options, dtype_backend)\u001b[0m\n\u001b[1;32m   1024\u001b[0m     \u001b[0mkwds\u001b[0m\u001b[0;34m.\u001b[0m\u001b[0mupdate\u001b[0m\u001b[0;34m(\u001b[0m\u001b[0mkwds_defaults\u001b[0m\u001b[0;34m)\u001b[0m\u001b[0;34m\u001b[0m\u001b[0;34m\u001b[0m\u001b[0m\n\u001b[1;32m   1025\u001b[0m \u001b[0;34m\u001b[0m\u001b[0m\n\u001b[0;32m-> 1026\u001b[0;31m     \u001b[0;32mreturn\u001b[0m \u001b[0m_read\u001b[0m\u001b[0;34m(\u001b[0m\u001b[0mfilepath_or_buffer\u001b[0m\u001b[0;34m,\u001b[0m \u001b[0mkwds\u001b[0m\u001b[0;34m)\u001b[0m\u001b[0;34m\u001b[0m\u001b[0;34m\u001b[0m\u001b[0m\n\u001b[0m\u001b[1;32m   1027\u001b[0m \u001b[0;34m\u001b[0m\u001b[0m\n\u001b[1;32m   1028\u001b[0m \u001b[0;34m\u001b[0m\u001b[0m\n",
            "\u001b[0;32m/usr/local/lib/python3.11/dist-packages/pandas/io/parsers/readers.py\u001b[0m in \u001b[0;36m_read\u001b[0;34m(filepath_or_buffer, kwds)\u001b[0m\n\u001b[1;32m    618\u001b[0m \u001b[0;34m\u001b[0m\u001b[0m\n\u001b[1;32m    619\u001b[0m     \u001b[0;31m# Create the parser.\u001b[0m\u001b[0;34m\u001b[0m\u001b[0;34m\u001b[0m\u001b[0m\n\u001b[0;32m--> 620\u001b[0;31m     \u001b[0mparser\u001b[0m \u001b[0;34m=\u001b[0m \u001b[0mTextFileReader\u001b[0m\u001b[0;34m(\u001b[0m\u001b[0mfilepath_or_buffer\u001b[0m\u001b[0;34m,\u001b[0m \u001b[0;34m**\u001b[0m\u001b[0mkwds\u001b[0m\u001b[0;34m)\u001b[0m\u001b[0;34m\u001b[0m\u001b[0;34m\u001b[0m\u001b[0m\n\u001b[0m\u001b[1;32m    621\u001b[0m \u001b[0;34m\u001b[0m\u001b[0m\n\u001b[1;32m    622\u001b[0m     \u001b[0;32mif\u001b[0m \u001b[0mchunksize\u001b[0m \u001b[0;32mor\u001b[0m \u001b[0miterator\u001b[0m\u001b[0;34m:\u001b[0m\u001b[0;34m\u001b[0m\u001b[0;34m\u001b[0m\u001b[0m\n",
            "\u001b[0;32m/usr/local/lib/python3.11/dist-packages/pandas/io/parsers/readers.py\u001b[0m in \u001b[0;36m__init__\u001b[0;34m(self, f, engine, **kwds)\u001b[0m\n\u001b[1;32m   1618\u001b[0m \u001b[0;34m\u001b[0m\u001b[0m\n\u001b[1;32m   1619\u001b[0m         \u001b[0mself\u001b[0m\u001b[0;34m.\u001b[0m\u001b[0mhandles\u001b[0m\u001b[0;34m:\u001b[0m \u001b[0mIOHandles\u001b[0m \u001b[0;34m|\u001b[0m \u001b[0;32mNone\u001b[0m \u001b[0;34m=\u001b[0m \u001b[0;32mNone\u001b[0m\u001b[0;34m\u001b[0m\u001b[0;34m\u001b[0m\u001b[0m\n\u001b[0;32m-> 1620\u001b[0;31m         \u001b[0mself\u001b[0m\u001b[0;34m.\u001b[0m\u001b[0m_engine\u001b[0m \u001b[0;34m=\u001b[0m \u001b[0mself\u001b[0m\u001b[0;34m.\u001b[0m\u001b[0m_make_engine\u001b[0m\u001b[0;34m(\u001b[0m\u001b[0mf\u001b[0m\u001b[0;34m,\u001b[0m \u001b[0mself\u001b[0m\u001b[0;34m.\u001b[0m\u001b[0mengine\u001b[0m\u001b[0;34m)\u001b[0m\u001b[0;34m\u001b[0m\u001b[0;34m\u001b[0m\u001b[0m\n\u001b[0m\u001b[1;32m   1621\u001b[0m \u001b[0;34m\u001b[0m\u001b[0m\n\u001b[1;32m   1622\u001b[0m     \u001b[0;32mdef\u001b[0m \u001b[0mclose\u001b[0m\u001b[0;34m(\u001b[0m\u001b[0mself\u001b[0m\u001b[0;34m)\u001b[0m \u001b[0;34m->\u001b[0m \u001b[0;32mNone\u001b[0m\u001b[0;34m:\u001b[0m\u001b[0;34m\u001b[0m\u001b[0;34m\u001b[0m\u001b[0m\n",
            "\u001b[0;32m/usr/local/lib/python3.11/dist-packages/pandas/io/parsers/readers.py\u001b[0m in \u001b[0;36m_make_engine\u001b[0;34m(self, f, engine)\u001b[0m\n\u001b[1;32m   1878\u001b[0m                 \u001b[0;32mif\u001b[0m \u001b[0;34m\"b\"\u001b[0m \u001b[0;32mnot\u001b[0m \u001b[0;32min\u001b[0m \u001b[0mmode\u001b[0m\u001b[0;34m:\u001b[0m\u001b[0;34m\u001b[0m\u001b[0;34m\u001b[0m\u001b[0m\n\u001b[1;32m   1879\u001b[0m                     \u001b[0mmode\u001b[0m \u001b[0;34m+=\u001b[0m \u001b[0;34m\"b\"\u001b[0m\u001b[0;34m\u001b[0m\u001b[0;34m\u001b[0m\u001b[0m\n\u001b[0;32m-> 1880\u001b[0;31m             self.handles = get_handle(\n\u001b[0m\u001b[1;32m   1881\u001b[0m                 \u001b[0mf\u001b[0m\u001b[0;34m,\u001b[0m\u001b[0;34m\u001b[0m\u001b[0;34m\u001b[0m\u001b[0m\n\u001b[1;32m   1882\u001b[0m                 \u001b[0mmode\u001b[0m\u001b[0;34m,\u001b[0m\u001b[0;34m\u001b[0m\u001b[0;34m\u001b[0m\u001b[0m\n",
            "\u001b[0;32m/usr/local/lib/python3.11/dist-packages/pandas/io/common.py\u001b[0m in \u001b[0;36mget_handle\u001b[0;34m(path_or_buf, mode, encoding, compression, memory_map, is_text, errors, storage_options)\u001b[0m\n\u001b[1;32m    871\u001b[0m         \u001b[0;32mif\u001b[0m \u001b[0mioargs\u001b[0m\u001b[0;34m.\u001b[0m\u001b[0mencoding\u001b[0m \u001b[0;32mand\u001b[0m \u001b[0;34m\"b\"\u001b[0m \u001b[0;32mnot\u001b[0m \u001b[0;32min\u001b[0m \u001b[0mioargs\u001b[0m\u001b[0;34m.\u001b[0m\u001b[0mmode\u001b[0m\u001b[0;34m:\u001b[0m\u001b[0;34m\u001b[0m\u001b[0;34m\u001b[0m\u001b[0m\n\u001b[1;32m    872\u001b[0m             \u001b[0;31m# Encoding\u001b[0m\u001b[0;34m\u001b[0m\u001b[0;34m\u001b[0m\u001b[0m\n\u001b[0;32m--> 873\u001b[0;31m             handle = open(\n\u001b[0m\u001b[1;32m    874\u001b[0m                 \u001b[0mhandle\u001b[0m\u001b[0;34m,\u001b[0m\u001b[0;34m\u001b[0m\u001b[0;34m\u001b[0m\u001b[0m\n\u001b[1;32m    875\u001b[0m                 \u001b[0mioargs\u001b[0m\u001b[0;34m.\u001b[0m\u001b[0mmode\u001b[0m\u001b[0;34m,\u001b[0m\u001b[0;34m\u001b[0m\u001b[0;34m\u001b[0m\u001b[0m\n",
            "\u001b[0;31mFileNotFoundError\u001b[0m: [Errno 2] No such file or directory: 'suicide rate.csv'"
          ]
        }
      ],
      "source": [
        "df = pd.read_csv(url)"
      ]
    },
    {
      "cell_type": "code",
      "execution_count": null,
      "id": "cddc74ee-2add-4bd8-9b18-f2a6205d383a",
      "metadata": {
        "id": "cddc74ee-2add-4bd8-9b18-f2a6205d383a"
      },
      "outputs": [],
      "source": [
        "df.info(), df.head()"
      ]
    },
    {
      "cell_type": "code",
      "execution_count": null,
      "id": "4b4d24a3-20f5-42b4-8713-740f7b53897b",
      "metadata": {
        "id": "4b4d24a3-20f5-42b4-8713-740f7b53897b"
      },
      "outputs": [],
      "source": [
        "df['gdp_for_year ($)'] = df[' gdp_for_year ($) '].str.replace(',', '').astype(float)"
      ]
    },
    {
      "cell_type": "code",
      "execution_count": null,
      "id": "e3e8be0a-248c-4081-994c-8a3272facd54",
      "metadata": {
        "id": "e3e8be0a-248c-4081-994c-8a3272facd54"
      },
      "outputs": [],
      "source": [
        "df.drop(columns=[' gdp_for_year ($) '], inplace=True)"
      ]
    },
    {
      "cell_type": "code",
      "execution_count": null,
      "id": "e15f17bb-25bf-4ffd-8531-dbae69a94e68",
      "metadata": {
        "id": "e15f17bb-25bf-4ffd-8531-dbae69a94e68"
      },
      "outputs": [],
      "source": [
        "df_clean = df.dropna()"
      ]
    },
    {
      "cell_type": "code",
      "execution_count": null,
      "id": "5d5208d7-45be-4740-8d04-4b0763b9e71e",
      "metadata": {
        "id": "5d5208d7-45be-4740-8d04-4b0763b9e71e"
      },
      "outputs": [],
      "source": [
        "Q1 = df_clean['suicides/100k pop'].quantile(0.25)\n",
        "Q3 = df_clean['suicides/100k pop'].quantile(0.75)\n",
        "IQR = Q3 - Q1\n",
        "lower_bound = Q1 - 1.5 * IQR\n",
        "upper_bound = Q3 + 1.5 * IQR\n",
        "\n",
        "df_clean = df_clean[(df_clean['suicides/100k pop'] >= lower_bound) &\n",
        "                    (df_clean['suicides/100k pop'] <= upper_bound)]"
      ]
    },
    {
      "cell_type": "code",
      "execution_count": null,
      "id": "815ebf70-8d55-4c06-ad7d-9d0095251eb2",
      "metadata": {
        "id": "815ebf70-8d55-4c06-ad7d-9d0095251eb2"
      },
      "outputs": [],
      "source": [
        "cleaned_count = len(df_clean)\n",
        "\n",
        "df_clean.info(), cleaned_count"
      ]
    },
    {
      "cell_type": "code",
      "execution_count": null,
      "id": "ce61631b-6c1a-46d1-8968-1f549b694084",
      "metadata": {
        "id": "ce61631b-6c1a-46d1-8968-1f549b694084"
      },
      "outputs": [],
      "source": [
        "import numpy as np\n",
        "from scipy.stats import pearsonr\n",
        "import statsmodels.api as sm"
      ]
    },
    {
      "cell_type": "code",
      "execution_count": null,
      "id": "193e0618-88dc-4577-93a4-981dcaedf614",
      "metadata": {
        "id": "193e0618-88dc-4577-93a4-981dcaedf614"
      },
      "outputs": [],
      "source": [
        "mean_suicide_rate = np.mean(df_clean['suicides/100k pop'])"
      ]
    },
    {
      "cell_type": "code",
      "execution_count": null,
      "id": "b73ac960-f992-47b2-aa28-fb6258bfcfe0",
      "metadata": {
        "id": "b73ac960-f992-47b2-aa28-fb6258bfcfe0"
      },
      "outputs": [],
      "source": [
        "std_gdp_per_capita = np.std(df_clean['gdp_per_capita ($)'])"
      ]
    },
    {
      "cell_type": "code",
      "execution_count": null,
      "id": "dd340ae7-e2b4-4611-b63e-b0265bfa3dfe",
      "metadata": {
        "id": "dd340ae7-e2b4-4611-b63e-b0265bfa3dfe"
      },
      "outputs": [],
      "source": [
        "correlation_matrix = np.corrcoef(df_clean['suicides_no'], df_clean['population'])"
      ]
    },
    {
      "cell_type": "code",
      "execution_count": null,
      "id": "046dc783-d5b7-48bb-8955-b3ec9a969362",
      "metadata": {
        "id": "046dc783-d5b7-48bb-8955-b3ec9a969362"
      },
      "outputs": [],
      "source": [
        "max_population = np.max(df_clean['population'])"
      ]
    },
    {
      "cell_type": "code",
      "execution_count": null,
      "id": "f002afb7-f1bb-4240-bbc5-e894d9446bfd",
      "metadata": {
        "id": "f002afb7-f1bb-4240-bbc5-e894d9446bfd"
      },
      "outputs": [],
      "source": [
        "unique_years = np.unique(df_clean['year'])"
      ]
    },
    {
      "cell_type": "code",
      "execution_count": null,
      "id": "cc115a81-eb55-42d6-a325-8b5e6e4166fe",
      "metadata": {
        "id": "cc115a81-eb55-42d6-a325-8b5e6e4166fe"
      },
      "outputs": [],
      "source": [
        "scipy_corr, scipy_p = pearsonr(df_clean['gdp_per_capita ($)'], df_clean['suicides/100k pop'])"
      ]
    },
    {
      "cell_type": "code",
      "execution_count": null,
      "id": "834f6744-1ae1-43d7-a73e-d78f9839ce43",
      "metadata": {
        "id": "834f6744-1ae1-43d7-a73e-d78f9839ce43"
      },
      "outputs": [],
      "source": [
        "X = df_clean['gdp_per_capita ($)']\n",
        "Y = df_clean['suicides/100k pop']\n",
        "X = sm.add_constant(X)  # adding a constant\n",
        "\n",
        "model = sm.OLS(Y, X).fit()\n",
        "regression_summary = model.summary()\n",
        "\n",
        "{\n",
        "    \"NumPy\": {\n",
        "        \"Mean Suicide Rate\": mean_suicide_rate,\n",
        "        \"Std GDP per Capita\": std_gdp_per_capita,\n",
        "        \"Correlation Matrix (Suicides vs Pop)\": correlation_matrix.tolist(),\n",
        "        \"Max Population\": max_population,\n",
        "        \"Unique Years Count\": len(unique_years)\n",
        "    },\n",
        "    \"SciPy\": {\n",
        "        \"Pearson Correlation\": scipy_corr,\n",
        "        \"P-Value\": scipy_p\n",
        "    },\n",
        "    \"Statsmodels Regression Summary\": str(regression_summary)\n",
        "}"
      ]
    },
    {
      "cell_type": "code",
      "execution_count": null,
      "id": "96f12446-2268-4a57-aa68-6c4c99533269",
      "metadata": {
        "id": "96f12446-2268-4a57-aa68-6c4c99533269"
      },
      "outputs": [],
      "source": [
        "mean_rate = np.mean(df_clean['suicides/100k pop'])\n",
        "std_dev = np.std(df_clean['suicides/100k pop'])\n",
        "min_val = np.min(df_clean['suicides/100k pop'])\n",
        "max_val = np.max(df_clean['suicides/100k pop'])\n",
        "median_val = np.median(df_clean['suicides/100k pop'])\n",
        "\n",
        "print(mean_rate, std_dev, min_val, max_val, median_val)"
      ]
    },
    {
      "cell_type": "code",
      "execution_count": null,
      "id": "c96c34f8-9e55-462a-acd4-a635e2b0c8aa",
      "metadata": {
        "id": "c96c34f8-9e55-462a-acd4-a635e2b0c8aa"
      },
      "outputs": [],
      "source": [
        "import pandas as pd\n",
        "import matplotlib.pyplot as plt\n",
        "import seaborn as sns"
      ]
    },
    {
      "cell_type": "code",
      "execution_count": null,
      "id": "e7a5b629-ad2d-4de8-9b8c-c39babe1ae99",
      "metadata": {
        "id": "e7a5b629-ad2d-4de8-9b8c-c39babe1ae99"
      },
      "outputs": [],
      "source": [
        "df = pd.read_csv(url)"
      ]
    },
    {
      "cell_type": "code",
      "execution_count": null,
      "id": "d227e931-a7ba-408d-a204-c6b0d6bcc6b8",
      "metadata": {
        "id": "d227e931-a7ba-408d-a204-c6b0d6bcc6b8"
      },
      "outputs": [],
      "source": [
        "df['gdp_for_year ($)'] = df[' gdp_for_year ($) '].str.replace(',', '').astype(float)\n",
        "df.drop(columns=[' gdp_for_year ($) '], inplace=True)\n",
        "df_clean = df.dropna()"
      ]
    },
    {
      "cell_type": "code",
      "execution_count": null,
      "id": "79880539-e73b-4fbb-bb22-f9700804a9ab",
      "metadata": {
        "id": "79880539-e73b-4fbb-bb22-f9700804a9ab"
      },
      "outputs": [],
      "source": [
        "Q1 = df_clean['suicides/100k pop'].quantile(0.25)\n",
        "Q3 = df_clean['suicides/100k pop'].quantile(0.75)\n",
        "IQR = Q3 - Q1\n",
        "lower_bound = Q1 - 1.5 * IQR\n",
        "upper_bound = Q3 + 1.5 * IQR\n",
        "df_clean = df_clean[(df_clean['suicides/100k pop'] >= lower_bound) &\n",
        "                    (df_clean['suicides/100k pop'] <= upper_bound)]\n"
      ]
    },
    {
      "cell_type": "code",
      "execution_count": null,
      "id": "e75d0bf2-f850-4e0b-899f-4b92f1b87d18",
      "metadata": {
        "id": "e75d0bf2-f850-4e0b-899f-4b92f1b87d18"
      },
      "outputs": [],
      "source": [
        "sns.set(style=\"whitegrid\")"
      ]
    },
    {
      "cell_type": "code",
      "execution_count": null,
      "id": "ee479cdc-20c0-4a67-88f0-fef918796e99",
      "metadata": {
        "id": "ee479cdc-20c0-4a67-88f0-fef918796e99"
      },
      "outputs": [],
      "source": [
        "sns.histplot(df_clean['suicides/100k pop'], kde=True)\n",
        "plt.title('Distribution of Suicide Rates')\n",
        "plt.show()"
      ]
    },
    {
      "cell_type": "code",
      "execution_count": null,
      "id": "e268de95-876e-4afd-967f-44a630df34bb",
      "metadata": {
        "id": "e268de95-876e-4afd-967f-44a630df34bb"
      },
      "outputs": [],
      "source": [
        "plt.figure(figsize=(8, 6))\n",
        "sns.boxplot(data=df_clean, x='sex', y='suicides/100k pop')\n",
        "plt.title(\"Suicide Rate by Gender\")\n",
        "plt.xlabel(\"Gender\")\n",
        "plt.ylabel(\"Suicides per 100k Population\")\n",
        "plt.tight_layout()\n",
        "plt.savefig(\"plot2_gender.png\")\n",
        "plt.show()"
      ]
    },
    {
      "cell_type": "code",
      "execution_count": null,
      "id": "25491f16-17c0-4e48-b3f8-1b5eb6809149",
      "metadata": {
        "id": "25491f16-17c0-4e48-b3f8-1b5eb6809149"
      },
      "outputs": [],
      "source": [
        "plt.figure(figsize=(10, 6))\n",
        "sns.barplot(data=df_clean, x='age', y='suicides/100k pop', hue='age', dodge=False, palette='viridis')\n",
        "plt.legend().remove()\n",
        "plt.title('Average Suicide Rate by Age Group')\n",
        "plt.xlabel('Age Group')\n",
        "plt.ylabel('Suicides per 100k Population')\n",
        "plt.xticks(rotation=30)\n",
        "plt.tight_layout()\n",
        "plt.show()"
      ]
    },
    {
      "cell_type": "code",
      "execution_count": null,
      "id": "3b83c50e-b749-4e71-beca-86a5ed1f33f3",
      "metadata": {
        "id": "3b83c50e-b749-4e71-beca-86a5ed1f33f3"
      },
      "outputs": [],
      "source": [
        "top_countries = df_clean.groupby('country')['suicides/100k pop'].mean().sort_values(ascending=False).head(5).index\n",
        "plt.figure(figsize=(14, 7))\n",
        "for country in top_countries:\n",
        "    country_data = df_clean[df_clean['country'] == country]\n",
        "    country_yearly_avg = country_data.groupby('year')['suicides/100k pop'].mean()\n",
        "    plt.plot(country_yearly_avg.index, country_yearly_avg.values, label=country)\n",
        "plt.title('Suicide Rate Over Time (Top 5 Countries)')\n",
        "plt.xlabel('Year')\n",
        "plt.ylabel('Average Suicides per 100k Population')\n",
        "plt.legend()\n",
        "plt.tight_layout()\n",
        "plt.savefig('plot4_time_country.png')\n",
        "plt.show()"
      ]
    },
    {
      "cell_type": "code",
      "execution_count": null,
      "id": "ea27972a-4c0c-478f-8683-bbe28448c93b",
      "metadata": {
        "id": "ea27972a-4c0c-478f-8683-bbe28448c93b"
      },
      "outputs": [],
      "source": [
        "plt.figure(figsize=(10, 6))\n",
        "sns.regplot(data=df_clean, x='gdp_per_capita ($)', y='suicides/100k pop', line_kws={\"color\": \"red\"})\n",
        "plt.title(\"Suicide Rate vs GDP per Capita\")\n",
        "plt.xlabel(\"GDP per Capita ($)\")\n",
        "plt.ylabel(\"Suicides per 100k Population\")\n",
        "plt.tight_layout()\n",
        "plt.savefig(\"plot1_regression.png\")\n",
        "plt.show()"
      ]
    },
    {
      "cell_type": "code",
      "execution_count": null,
      "id": "81904d13-5b59-422e-af5e-08d207e1a439",
      "metadata": {
        "id": "81904d13-5b59-422e-af5e-08d207e1a439"
      },
      "outputs": [],
      "source": [
        "import matplotlib.pyplot as plt\n",
        "import seaborn as sns"
      ]
    },
    {
      "cell_type": "code",
      "execution_count": null,
      "id": "eadda858-6870-456e-a223-abcbc0244ab3",
      "metadata": {
        "id": "eadda858-6870-456e-a223-abcbc0244ab3"
      },
      "outputs": [],
      "source": [
        "from scipy.stats import pearsonr"
      ]
    },
    {
      "cell_type": "code",
      "execution_count": null,
      "id": "9198953b-83a5-4b9d-b3fc-ce8063d30d50",
      "metadata": {
        "id": "9198953b-83a5-4b9d-b3fc-ce8063d30d50"
      },
      "outputs": [],
      "source": [
        "corr1, _ = pearsonr(df_clean['suicides/100k pop'], df_clean['gdp_per_capita ($)'])\n",
        "corr2, _ = pearsonr(df_clean['suicides/100k pop'], df_clean['year'])\n",
        "\n",
        "print(\"GDP correlation:\", corr1)\n",
        "print(\"Year correlation:\", corr2)"
      ]
    }
  ],
  "metadata": {
    "kernelspec": {
      "display_name": "Python 3 (ipykernel)",
      "language": "python",
      "name": "python3"
    },
    "language_info": {
      "codemirror_mode": {
        "name": "ipython",
        "version": 3
      },
      "file_extension": ".py",
      "mimetype": "text/x-python",
      "name": "python",
      "nbconvert_exporter": "python",
      "pygments_lexer": "ipython3",
      "version": "3.12.7"
    },
    "colab": {
      "provenance": []
    }
  },
  "nbformat": 4,
  "nbformat_minor": 5
}